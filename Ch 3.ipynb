{
 "cells": [
  {
   "cell_type": "code",
   "execution_count": 10,
   "id": "284fa61c-d038-4883-a46b-ad2deab6b737",
   "metadata": {},
   "outputs": [
    {
     "name": "stdout",
     "output_type": "stream",
     "text": [
      "How Many Seconds are in an hour?\n",
      "There are  3600  seconds in an hour\n"
     ]
    }
   ],
   "source": [
    "print(\"How Many Seconds are in an hour?\")\n",
    "s = 60\n",
    "m = 60\n",
    "x = s * m\n",
    "print(\"There are \", x, \" seconds in an hour\")"
   ]
  },
  {
   "cell_type": "code",
   "execution_count": 11,
   "id": "e5b21f31-8c61-4703-b87a-6d16549421d1",
   "metadata": {},
   "outputs": [],
   "source": [
    "seconds_per_hour = x"
   ]
  },
  {
   "cell_type": "code",
   "execution_count": 12,
   "id": "af4aec60-7f52-4df5-93a1-8dece9e2edf2",
   "metadata": {},
   "outputs": [
    {
     "name": "stdout",
     "output_type": "stream",
     "text": [
      "How Many Seconds are in a day?\n",
      "There are  86400  seconds in a day\n"
     ]
    }
   ],
   "source": [
    "print(\"How Many Seconds are in a day?\")\n",
    "d = 24\n",
    "y = seconds_per_hour * d\n",
    "print(\"There are \", y, \" seconds in a day\")"
   ]
  },
  {
   "cell_type": "code",
   "execution_count": 13,
   "id": "6422a41a-4549-46de-9737-48e86c8d5f23",
   "metadata": {},
   "outputs": [],
   "source": [
    "seconds_per_day = y"
   ]
  },
  {
   "cell_type": "code",
   "execution_count": 14,
   "id": "985ff16e-2646-4952-ba63-cec1c0cc6cae",
   "metadata": {},
   "outputs": [
    {
     "data": {
      "text/plain": [
       "24.0"
      ]
     },
     "execution_count": 14,
     "metadata": {},
     "output_type": "execute_result"
    }
   ],
   "source": [
    "float(seconds_per_day/seconds_per_hour)"
   ]
  },
  {
   "cell_type": "code",
   "execution_count": null,
   "id": "52e8cd0f-632e-4ff5-b25f-3f45d3267e7b",
   "metadata": {},
   "outputs": [],
   "source": [
    "int(seconds_per_day/seconds_per_hour)"
   ]
  }
 ],
 "metadata": {
  "kernelspec": {
   "display_name": "Python [conda env:base] *",
   "language": "python",
   "name": "conda-base-py"
  },
  "language_info": {
   "codemirror_mode": {
    "name": "ipython",
    "version": 3
   },
   "file_extension": ".py",
   "mimetype": "text/x-python",
   "name": "python",
   "nbconvert_exporter": "python",
   "pygments_lexer": "ipython3",
   "version": "3.13.5"
  }
 },
 "nbformat": 4,
 "nbformat_minor": 5
}
